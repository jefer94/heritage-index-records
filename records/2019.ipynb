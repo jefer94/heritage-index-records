{
 "cells": [
  {
   "cell_type": "markdown",
   "metadata": {},
   "source": [
    "# Set index year"
   ]
  },
  {
   "cell_type": "code",
   "execution_count": 13,
   "metadata": {},
   "outputs": [],
   "source": [
    "index_year = 2019"
   ]
  },
  {
   "cell_type": "markdown",
   "metadata": {},
   "source": [
    "# Get the CSV from Heritage foundation"
   ]
  },
  {
   "cell_type": "code",
   "execution_count": 14,
   "metadata": {},
   "outputs": [],
   "source": [
    "import requests\n",
    "from io import StringIO\n",
    "\n",
    "csv_from_heritage = 'https://www.heritage.org/index/htmp/data/2022/freedom-scores.csv?r=0.1747893607966189'\n",
    "\n",
    "response = requests.get(csv_from_heritage)\n",
    "\n",
    "content = StringIO(response.content.decode(\"utf-8\") )"
   ]
  },
  {
   "cell_type": "markdown",
   "metadata": {},
   "source": [
    "# Set the dataframe"
   ]
  },
  {
   "cell_type": "code",
   "execution_count": 15,
   "metadata": {},
   "outputs": [],
   "source": [
    "import pandas as pd\n",
    "\n",
    "df = pd.read_csv(content)"
   ]
  },
  {
   "cell_type": "markdown",
   "metadata": {},
   "source": [
    "# Sort by overall score"
   ]
  },
  {
   "cell_type": "code",
   "execution_count": 16,
   "metadata": {},
   "outputs": [],
   "source": [
    "df = df.sort_values(by=['Overall Score'], ascending=False)"
   ]
  },
  {
   "cell_type": "markdown",
   "metadata": {},
   "source": [
    "# Filter the content by index year"
   ]
  },
  {
   "cell_type": "code",
   "execution_count": 17,
   "metadata": {},
   "outputs": [],
   "source": [
    "df = df[(df['Index Year'] == index_year)]"
   ]
  },
  {
   "cell_type": "markdown",
   "metadata": {},
   "source": [
    "# Show the results"
   ]
  },
  {
   "cell_type": "code",
   "execution_count": 18,
   "metadata": {},
   "outputs": [
    {
     "name": "stdout",
     "output_type": "stream",
     "text": [
      "                                 Name  Overall Score  Index Year\n",
      "628                         Hong Kong           90.2        2019\n",
      "704                         Singapore           89.4        2019\n",
      "677                       New Zealand           84.4        2019\n",
      "715                       Switzerland           81.9        2019\n",
      "564                         Australia           80.9        2019\n",
      "635                           Ireland           80.5        2019\n",
      "731                    United Kingdom           78.9        2019\n",
      "586                            Canada           77.7        2019\n",
      "730              United Arab Emirates           77.6        2019\n",
      "717                            Taiwan           77.3        2019\n",
      "630                           Iceland           77.1        2019\n",
      "732                     United States           76.8        2019\n",
      "676                       Netherlands           76.8        2019\n",
      "602                           Denmark           76.7        2019\n",
      "611                           Estonia           76.6        2019\n",
      "656                        Luxembourg           75.9        2019\n",
      "618                           Georgia           75.9        2019\n",
      "590                             Chile           75.4        2019\n",
      "714                            Sweden           75.2        2019\n",
      "614                           Finland           74.9        2019\n",
      "655                         Lithuania           74.2        2019\n",
      "661                         Malaysia            74.0        2019\n",
      "601                    Czech Republic           73.7        2019\n",
      "619                           Germany           73.5        2019\n",
      "681                            Norway           73.0        2019\n",
      "666                         Mauritius           73.0        2019\n",
      "636                            Israel           72.8        2019\n",
      "691                             Qatar           72.6        2019\n",
      "645                       South Korea           72.3        2019\n",
      "639                             Japan           72.1        2019\n",
      "565                           Austria           72.0        2019\n",
      "658                         Macedonia           71.1        2019\n",
      "694                            Rwanda           71.1        2019\n",
      "657                             Macau           71.0        2019\n",
      "649                            Latvia           70.4        2019\n",
      "578                          Botswana           69.5        2019\n",
      "580                          Bulgaria           69.0        2019\n",
      "695                       Saint Lucia           68.7        2019\n",
      "733                          Uruguay            68.6        2019\n",
      "664                             Malta           68.6        2019\n",
      "692                           Romania           68.6        2019\n",
      "638                          Jamaica            68.6        2019\n",
      "720                         Thailand            68.3        2019\n",
      "600                            Cyprus           68.1        2019\n",
      "687                              Peru           67.8        2019\n",
      "689                            Poland           67.8        2019\n",
      "563                           Armenia           67.7        2019\n",
      "592                          Colombia           67.3        2019\n",
      "572                           Belgium           67.3        2019\n",
      "684                           Panama            67.2        2019\n",
      "742                            Kosovo           67.0        2019\n",
      "640                            Jordan           66.5        2019\n",
      "559                           Albania           66.5        2019\n",
      "568                           Bahrain           66.4        2019\n",
      "632                         Indonesia           65.8        2019\n",
      "696  Saint Vincent and the Grenadines           65.8        2019\n",
      "709                             Spain           65.7        2019\n",
      "706                          Slovenia           65.5        2019\n",
      "566                        Azerbaijan           65.4        2019\n",
      "641                        Kazakhstan           65.4        2019\n",
      "690                          Portugal           65.3        2019\n",
      "596                       Costa Rica            65.3        2019\n",
      "743                 Brunei Darussalam           65.1        2019\n",
      "629                          Hungary            65.0        2019\n",
      "705                          Slovakia           65.0        2019\n",
      "570                          Barbados           64.7        2019\n",
      "667                            Mexico           64.7        2019\n",
      "726                            Turkey           64.6        2019\n",
      "701                           Serbia            63.9        2019\n",
      "688                       Philippines           63.8        2019\n",
      "615                            France           63.8        2019\n",
      "604                          Dominica           63.6        2019\n",
      "587                        Cabo Verde           63.1        2019\n",
      "672                           Morocco           62.9        2019\n",
      "575                            Bhutan           62.9        2019\n",
      "567                       The Bahamas           62.9        2019\n",
      "622                        Guatemala            62.6        2019\n",
      "597                    Côte d'Ivoire            62.4        2019\n",
      "647                  Kyrgyz Republic            62.3        2019\n",
      "697                             Samoa           62.2        2019\n",
      "613                              Fiji           62.2        2019\n",
      "637                             Italy           62.2        2019\n",
      "577            Bosnia and Herzegovina           61.9        2019\n",
      "608                      El Salvador            61.8        2019\n",
      "686                         Paraguay            61.8        2019\n",
      "702                        Seychelles           61.4        2019\n",
      "598                           Croatia           61.4        2019\n",
      "682                              Oman           61.0        2019\n",
      "605                Dominican Republic           61.0        2019\n",
      "646                            Kuwait           60.8        2019\n",
      "699                      Saudi Arabia           60.7        2019\n",
      "671                        Montenegro           60.5        2019\n",
      "719                          Tanzania           60.2        2019\n",
      "627                         Honduras            60.2        2019\n",
      "728                            Uganda           59.7        2019\n",
      "581                      Burkina Faso           59.4        2019\n",
      "669                           Moldova           59.1        2019\n",
      "693                            Russia           58.9        2019\n",
      "674                           Namibia           58.7        2019\n",
      "591                             China           58.4        2019\n",
      "685                  Papua New Guinea           58.4        2019\n",
      "708                      South Africa           58.3        2019\n",
      "663                              Mali           58.1        2019\n",
      "571                           Belarus           57.9        2019\n",
      "584                          Cambodia           57.8        2019\n",
      "678                        Nicaragua            57.7        2019\n",
      "621                            Greece           57.7        2019\n",
      "723                             Tonga           57.7        2019\n",
      "620                             Ghana           57.5        2019\n",
      "648                              Laos           57.4        2019\n",
      "680                           Nigeria           57.3        2019\n",
      "724               Trinidad and Tobago           57.0        2019\n",
      "625                            Guyana           56.8        2019\n",
      "659                        Madagascar           56.6        2019\n",
      "710                         Sri Lanka           56.4        2019\n",
      "735                           Vanuatu           56.4        2019\n",
      "700                           Senegal           56.3        2019\n",
      "616                             Gabon           56.3        2019\n",
      "665                        Mauritania           55.7        2019\n",
      "623                            Guinea           55.7        2019\n",
      "569                       Bangladesh            55.6        2019\n",
      "718                        Tajikistan           55.6        2019\n",
      "573                            Belize           55.4        2019\n",
      "725                           Tunisia           55.4        2019\n",
      "670                          Mongolia           55.4        2019\n",
      "593                           Comoros           55.4        2019\n",
      "737                           Vietnam           55.3        2019\n",
      "574                             Benin           55.3        2019\n",
      "631                             India           55.2        2019\n",
      "642                             Kenya           55.1        2019\n",
      "683                         Pakistan            55.0        2019\n",
      "713                          Eswatini           54.7        2019\n",
      "707                   Solomon Islands           54.6        2019\n",
      "624                     Guinea-Bissau           54.0        2019\n",
      "698            São Tomé and Príncipe            54.0        2019\n",
      "675                             Nepal           53.8        2019\n",
      "739                            Zambia           53.6        2019\n",
      "612                          Ethiopia           53.6        2019\n",
      "582                             Burma           53.6        2019\n",
      "734                        Uzbekistan           53.3        2019\n",
      "662                          Maldives           53.2        2019\n",
      "651                           Lesotho           53.1        2019\n",
      "626                             Haiti           52.7        2019\n",
      "607                             Egypt           52.5        2019\n",
      "585                          Cameroon           52.4        2019\n",
      "617                        The Gambia           52.4        2019\n",
      "729                           Ukraine           52.3        2019\n",
      "562                         Argentina           52.2        2019\n",
      "579                            Brazil           51.9        2019\n",
      "668                        Micronesia           51.9        2019\n",
      "679                             Niger           51.6        2019\n",
      "558                       Afghanistan           51.5        2019\n",
      "660                            Malawi           51.4        2019\n",
      "650                           Lebanon           51.1        2019\n",
      "633                              Iran           51.1        2019\n",
      "561                            Angola           50.6        2019\n",
      "722                              Togo           50.3        2019\n",
      "594      Democratic Republic of Congo           50.3        2019\n",
      "589                              Chad           49.9        2019\n",
      "652                           Liberia           49.7        2019\n",
      "588          Central African Republic           49.1        2019\n",
      "583                           Burundi           48.9        2019\n",
      "673                       Mozambique            48.6        2019\n",
      "727                      Turkmenistan           48.4        2019\n",
      "712                          Suriname           48.1        2019\n",
      "711                             Sudan           47.7        2019\n",
      "703                      Sierra Leone           47.5        2019\n",
      "643                          Kiribati           47.3        2019\n",
      "603                          Djibouti           47.1        2019\n",
      "606                           Ecuador           46.9        2019\n",
      "560                           Algeria           46.2        2019\n",
      "721                       Timor-Leste           44.2        2019\n",
      "576                           Bolivia           42.3        2019\n",
      "609                 Equatorial Guinea           41.0        2019\n",
      "740                          Zimbabwe           40.4        2019\n",
      "595                Republic of Congo            39.7        2019\n",
      "610                           Eritrea           38.9        2019\n",
      "599                              Cuba           27.8        2019\n",
      "736                        Venezuela            25.9        2019\n",
      "644                       North Korea            5.9        2019\n",
      "634                              Iraq            NaN        2019\n",
      "653                             Libya            NaN        2019\n",
      "654                     Liechtenstein            NaN        2019\n",
      "716                             Syria            NaN        2019\n",
      "738                             Yemen            NaN        2019\n",
      "741                           Somalia            NaN        2019\n"
     ]
    }
   ],
   "source": [
    "pd.set_option('display.max_rows', df.shape[0]+1)\n",
    "df = df[['Name','Overall Score', 'Index Year']]\n",
    "\n",
    "print(df)"
   ]
  }
 ],
 "metadata": {
  "kernelspec": {
   "display_name": "Python 3.8.13 ('.venv': pipenv)",
   "language": "python",
   "name": "python3"
  },
  "language_info": {
   "codemirror_mode": {
    "name": "ipython",
    "version": 3
   },
   "file_extension": ".py",
   "mimetype": "text/x-python",
   "name": "python",
   "nbconvert_exporter": "python",
   "pygments_lexer": "ipython3",
   "version": "3.8.13"
  },
  "orig_nbformat": 4,
  "vscode": {
   "interpreter": {
    "hash": "e47cf63c26f898376c476512050208c7aa9bd978f536c6e4a219ff416e7d407a"
   }
  }
 },
 "nbformat": 4,
 "nbformat_minor": 2
}
